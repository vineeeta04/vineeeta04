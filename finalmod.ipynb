{
 "cells": [
  {
   "cell_type": "code",
   "execution_count": 20,
   "id": "6d0c1c3f-0398-402e-914d-e658e69199e9",
   "metadata": {},
   "outputs": [
    {
     "name": "stdout",
     "output_type": "stream",
     "text": [
      "Available datasets:\n",
      "1: Apple_mobiles_with_links.csv\n",
      "2: Lenovo_mobiles.csv\n",
      "3: Mi_mobiles.csv\n",
      "4: oppo_mobiles.csv\n",
      "5: Poco_mobiles.csv\n",
      "6: realme_mobiles.csv\n",
      "\n",
      "Select the first dataset number to compare (1-6):\n"
     ]
    },
    {
     "name": "stdin",
     "output_type": "stream",
     "text": [
      " 5\n"
     ]
    },
    {
     "name": "stdout",
     "output_type": "stream",
     "text": [
      "\n",
      "Dataset 5 - Poco_mobiles.csv\n",
      "     Unnamed: 0                        Product name  \\\n",
      "0             0      POCO C65 (Pastel Blue, 128 GB)   \n",
      "1             1      POCO C65 (Matte Black, 128 GB)   \n",
      "2             2      POCO C65 (Pastel Blue, 256 GB)   \n",
      "3             3      POCO C65 (Matte Black, 128 GB)   \n",
      "4             4      POCO C65 (Matte Black, 256 GB)   \n",
      "..          ...                                 ...   \n",
      "127         127     POCO X2 (Matrix Purple, 128 GB)   \n",
      "128         128         POCO F1 (Rosso Red, 128 GB)   \n",
      "129         129     POCO F1 (Graphite Black, 64 GB)   \n",
      "130         130    POCO F1 (Graphite Black, 128 GB)   \n",
      "131         131  POCO F1 (Armoured Edition, 256 GB)   \n",
      "\n",
      "                                     Links of products  Reviews  \n",
      "0    https://www.flipkart.com/poco-c65-pastel-blue-...      4.2  \n",
      "1    https://www.flipkart.com/poco-c65-matte-black-...      4.3  \n",
      "2    https://www.flipkart.com/poco-c65-pastel-blue-...      4.2  \n",
      "3    https://www.flipkart.com/poco-c65-matte-black-...      4.2  \n",
      "4    https://www.flipkart.com/poco-c65-matte-black-...      4.2  \n",
      "..                                                 ...      ...  \n",
      "127  https://www.flipkart.com/poco-x2-matrix-purple...      4.5  \n",
      "128  https://www.flipkart.com/poco-f1-rosso-red-128...      4.5  \n",
      "129  https://www.flipkart.com/poco-f1-graphite-blac...      4.5  \n",
      "130  https://www.flipkart.com/poco-f1-graphite-blac...      4.5  \n",
      "131  https://www.flipkart.com/poco-f1-armoured-edit...      4.5  \n",
      "\n",
      "[132 rows x 4 columns]\n",
      "Average Review Score: 4.272727272727275\n",
      "\n",
      "Select the second dataset number to compare (1-6):\n"
     ]
    },
    {
     "name": "stdin",
     "output_type": "stream",
     "text": [
      " 3\n"
     ]
    },
    {
     "name": "stdout",
     "output_type": "stream",
     "text": [
      "\n",
      "Dataset 3 - Mi_mobiles.csv\n",
      "     Unnamed: 0                               Product name  \\\n",
      "0             0  REDMI Note 11 Pro (Stealth Black, 128 GB)   \n",
      "1             1                  Redmi 9 (Sky Blue, 64 GB)   \n",
      "2             2           Mi 11 Lite (Vinyl Black, 128 GB)   \n",
      "3             3             Redmi 8 (Sapphire Blue, 64 GB)   \n",
      "4             4          Redmi K20 Pro (Flame Red, 128 GB)   \n",
      "..          ...                                        ...   \n",
      "187         187         11 Lite NE (Tuscany Coral, 128 GB)   \n",
      "188         188        11 Lite NE (Diamond Dazzle, 128 GB)   \n",
      "189         189           11 Lite NE (Vinyl Black, 128 GB)   \n",
      "190         190                     Redmi Y2 (Gold, 32 GB)   \n",
      "191         191                      Redmi 2 (White, 8 GB)   \n",
      "\n",
      "                                     Links of products  Reviews  \n",
      "0    https://www.flipkart.com/redmi-note-11-pro-ste...      4.1  \n",
      "1    https://www.flipkart.com/redmi-9-sky-blue-64-g...      4.3  \n",
      "2    https://www.flipkart.com/mi-11-lite-vinyl-blac...      4.2  \n",
      "3    https://www.flipkart.com/redmi-8-sapphire-blue...      4.4  \n",
      "4    https://www.flipkart.com/redmi-k20-pro-flame-r...      4.5  \n",
      "..                                                 ...      ...  \n",
      "187  https://www.flipkart.com/11-lite-ne-tuscany-co...      3.7  \n",
      "188  https://www.flipkart.com/11-lite-ne-diamond-da...      3.7  \n",
      "189  https://www.flipkart.com/11-lite-ne-vinyl-blac...      3.7  \n",
      "190  https://www.flipkart.com/redmi-y2-gold-32-gb/p...      4.5  \n",
      "191  https://www.flipkart.com/redmi-2-white-8-gb/p/...      4.2  \n",
      "\n",
      "[192 rows x 4 columns]\n",
      "Average Review Score: 4.259895833333336\n",
      "\n",
      "Dataset 5 has the best reviews.\n"
     ]
    }
   ],
   "source": [
    "import pandas as pd\n",
    "datasets = {\n",
    "    '1': 'Apple_mobiles_with_links.csv',\n",
    "    '2': 'Lenovo_mobiles.csv',\n",
    "    '3': 'Mi_mobiles.csv',\n",
    "    '4': 'oppo_mobiles.csv',\n",
    "    '5': 'Poco_mobiles.csv',\n",
    "    '6': 'realme_mobiles.csv'\n",
    "}\n",
    "\n",
    "\n",
    "def display_dataset_names():\n",
    "    print(\"Available datasets:\")\n",
    "    for key, value in datasets.items():\n",
    "        print(f\"{key}: {value}\")\n",
    "\n",
    "def display_dataset(choice):\n",
    "    filename = datasets.get(choice)\n",
    "    if filename:\n",
    "        df = pd.read_csv(filename)\n",
    "        print(f\"\\nDataset {choice} - {datasets[choice]}\")\n",
    "        print(df)\n",
    "        average_review = df['Reviews'].mean()\n",
    "        print(\"Average Review Score:\", average_review)\n",
    "        return average_review\n",
    "    else:\n",
    "        print(\"Invalid choice. Please choose a number between 1 and 6.\")\n",
    "\n",
    "def main():\n",
    "    display_dataset_names()\n",
    "\n",
    "    print(\"\\nSelect the first dataset number to compare (1-6):\")\n",
    "    dataset_choice_1 = input()\n",
    "    if dataset_choice_1 not in datasets:\n",
    "        print(\"Invalid dataset number. Please choose a number between 1 and 6.\")\n",
    "        return\n",
    "    avg_review_1 = display_dataset(dataset_choice_1)\n",
    "\n",
    "    print(\"\\nSelect the second dataset number to compare (1-6):\")\n",
    "    dataset_choice_2 = input()\n",
    "    if dataset_choice_2 not in datasets:\n",
    "        print(\"Invalid dataset number. Please choose a number between 1 and 6.\")\n",
    "        return\n",
    "    avg_review_2 = display_dataset(dataset_choice_2)\n",
    "\n",
    "    if avg_review_1 > avg_review_2:\n",
    "        print(f\"\\nDataset {dataset_choice_1} has the best reviews.\")\n",
    "    elif avg_review_1 < avg_review_2:\n",
    "        print(f\"\\nDataset {dataset_choice_2} has the best reviews.\")\n",
    "    else:\n",
    "        print(\"\\nBoth datasets have the same average review score.\")\n",
    "\n",
    "if __name__ == \"__main__\":\n",
    "    main()\n"
   ]
  },
  {
   "cell_type": "code",
   "execution_count": 21,
   "id": "ae9a31d6-79a6-4a9f-8b5d-c189d0e3fa83",
   "metadata": {
    "tags": []
   },
   "outputs": [
    {
     "name": "stdout",
     "output_type": "stream",
     "text": [
      "4.570312500000009\n",
      "3.991463414634147\n",
      "4.259895833333336\n",
      "4.32374999999999\n",
      "4.272727272727275\n",
      "4.33999999999999\n"
     ]
    }
   ],
   "source": [
    "import pandas as pd\n",
    "ap=pd.read_csv('Apple_mobiles_with_links.csv')\n",
    "lp=pd.read_csv('Lenovo_mobiles.csv')\n",
    "mp=pd.read_csv('Mi_mobiles.csv')\n",
    "op=pd.read_csv('oppo_mobiles.csv')\n",
    "pp=pd.read_csv('Poco_mobiles.csv')\n",
    "rp=pd.read_csv('realme_mobiles.csv')\n",
    "r1 = ap['Reviews'].mean()\n",
    "print(r1)\n",
    "r2 = lp['Reviews'].mean()\n",
    "print(r2)\n",
    "r3 = mp['Reviews'].mean()\n",
    "print(r3)\n",
    "r4 = op['Reviews'].mean()\n",
    "print(r4)\n",
    "r5 = pp['Reviews'].mean()\n",
    "print(r5)\n",
    "r6 = rp['Reviews'].mean()\n",
    "print(r6)\n"
   ]
  },
  {
   "cell_type": "code",
   "execution_count": 22,
   "id": "d05d885f-c434-4430-8b23-69d341876da0",
   "metadata": {},
   "outputs": [],
   "source": [
    "data = {\n",
    "    'Brand_name': ['Apple', 'Lenovo', 'Mi', 'oppo','Poco','realme'],\n",
    "    'Reviews': [4.5703, 3.9914, 4.2598, 4.3237,4.2727,4.3399],\n",
    "    \n",
    "}\n",
    "\n",
    "# Create a DataFrame from the dictionary\n",
    "df = pd.DataFrame(data)\n",
    "df.to_csv(\"C:/Users/prafu/OneDrive/Desktop/python aba datasets/brands_reviewa.csv\")"
   ]
  },
  {
   "cell_type": "code",
   "execution_count": 23,
   "id": "5dd6bde7-9b22-4f08-a29b-37dd5c4f5e6e",
   "metadata": {},
   "outputs": [
    {
     "name": "stdout",
     "output_type": "stream",
     "text": [
      "  Brand_name  Reviews\n",
      "0      Apple   4.5703\n",
      "1     Lenovo   3.9914\n",
      "2         Mi   4.2598\n",
      "3       oppo   4.3237\n",
      "4       Poco   4.2727\n",
      "5     realme   4.3399\n"
     ]
    }
   ],
   "source": [
    "print(df)"
   ]
  },
  {
   "cell_type": "code",
   "execution_count": 19,
   "id": "62302947-1366-4cb3-869d-2bbe8cd748b3",
   "metadata": {},
   "outputs": [
    {
     "data": {
      "text/plain": [
       "Text(0.5, 1.0, 'Average reviews of brands')"
      ]
     },
     "execution_count": 19,
     "metadata": {},
     "output_type": "execute_result"
    },
    {
     "data": {
      "image/png": "[encoded data removed]",
      "text/plain": [
       "<Figure size 432x288 with 1 Axes>"
      ]
     },
     "metadata": {
      "needs_background": "light"
     },
     "output_type": "display_data"
    }
   ],
   "source": [
    "import seaborn as sns\n",
    "import pandas as pd\n",
    "import matplotlib.pyplot as plt\n",
    "rv=pd.read_csv('brands_reviewa.csv')\n",
    "sns.lineplot(data=df, x='Brand_name', y='Reviews')\n",
    "plt.title('Average reviews of brands')"
   ]
  },
  {
   "cell_type": "code",
   "execution_count": null,
   "id": "2f72a61a-73c8-4146-95d3-ce83fb27d307",
   "metadata": {},
   "outputs": [],
   "source": []
  }
 ],
 "metadata": {
  "kernelspec": {
   "display_name": "Python 3",
   "language": "python",
   "name": "python3"
  },
  "language_info": {
   "codemirror_mode": {
    "name": "ipython",
    "version": 3
   },
   "file_extension": ".py",
   "mimetype": "text/x-python",
   "name": "python",
   "nbconvert_exporter": "python",
   "pygments_lexer": "ipython3",
   "version": "3.8.8"
  }
 },
 "nbformat": 4,
 "nbformat_minor": 5
}
